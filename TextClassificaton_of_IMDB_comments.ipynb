{
  "nbformat": 4,
  "nbformat_minor": 0,
  "metadata": {
    "colab": {
      "provenance": []
    },
    "kernelspec": {
      "name": "python3",
      "display_name": "Python 3"
    },
    "language_info": {
      "name": "python"
    },
    "accelerator": "GPU",
    "gpuClass": "standard"
  },
  "cells": [
    {
      "cell_type": "markdown",
      "source": [
        "# Text Classification "
      ],
      "metadata": {
        "id": "AjWrX58rJxgl"
      }
    },
    {
      "cell_type": "code",
      "source": [
        "import numpy as np\n",
        "import pandas as pd \n",
        "import os"
      ],
      "metadata": {
        "id": "55-8BpY4J0bk"
      },
      "execution_count": null,
      "outputs": []
    },
    {
      "cell_type": "code",
      "source": [
        "!wget http://ai.stanford.edu/~amaas/data/sentiment/aclImdb_v1.tar.gz -O imdb.tar.gz\n",
        "import tarfile\n",
        "with tarfile.open('imdb.tar.gz', 'r:gz') as tar:\n",
        "    tar.extractall()"
      ],
      "metadata": {
        "id": "8T1UhVZrJ0qG",
        "colab": {
          "base_uri": "https://localhost:8080/"
        },
        "outputId": "2f0826f3-65dc-439c-80b8-f885a48683b4"
      },
      "execution_count": null,
      "outputs": [
        {
          "output_type": "stream",
          "name": "stdout",
          "text": [
            "--2023-02-25 15:03:52--  http://ai.stanford.edu/~amaas/data/sentiment/aclImdb_v1.tar.gz\n",
            "Resolving ai.stanford.edu (ai.stanford.edu)... 171.64.68.10\n",
            "Connecting to ai.stanford.edu (ai.stanford.edu)|171.64.68.10|:80... connected.\n",
            "HTTP request sent, awaiting response... 200 OK\n",
            "Length: 84125825 (80M) [application/x-gzip]\n",
            "Saving to: ‘imdb.tar.gz’\n",
            "\n",
            "imdb.tar.gz         100%[===================>]  80.23M  15.6MB/s    in 8.8s    \n",
            "\n",
            "2023-02-25 15:04:01 (9.07 MB/s) - ‘imdb.tar.gz’ saved [84125825/84125825]\n",
            "\n"
          ]
        }
      ]
    },
    {
      "cell_type": "code",
      "source": [
        "X=[]\n",
        "y=[]"
      ],
      "metadata": {
        "id": "V7Tr5slDRILL"
      },
      "execution_count": null,
      "outputs": []
    },
    {
      "cell_type": "code",
      "source": [
        "# Reading text data into list\n",
        "# there are two comments \"pos\" and \"neg\"\n",
        "\n",
        "for category in ('neg','pos'):\n",
        "  trainpath=os.path.join('/content/aclImdb','train',category)\n",
        "  for filename in os.listdir(trainpath):\n",
        "    if filename.endswith(\".txt\"):\n",
        "      with open(os.path.join(trainpath,filename)) as f:\n",
        "        X.append(f.read())\n",
        "        y.append(1 if category==\"pos\" else 0)"
      ],
      "metadata": {
        "id": "OsyZEo4yO8RB"
      },
      "execution_count": null,
      "outputs": []
    },
    {
      "cell_type": "code",
      "source": [
        "len(X)"
      ],
      "metadata": {
        "colab": {
          "base_uri": "https://localhost:8080/"
        },
        "id": "rrlOCrhPO8bR",
        "outputId": "20d1fdb4-b169-4612-8c97-8b88fe0cae44"
      },
      "execution_count": null,
      "outputs": [
        {
          "output_type": "execute_result",
          "data": {
            "text/plain": [
              "25000"
            ]
          },
          "metadata": {},
          "execution_count": 5
        }
      ]
    },
    {
      "cell_type": "code",
      "source": [
        "len(y)"
      ],
      "metadata": {
        "colab": {
          "base_uri": "https://localhost:8080/"
        },
        "id": "iTsMbS1uR7yy",
        "outputId": "fdb8722f-9dfe-437b-92e7-6163961cb83b"
      },
      "execution_count": null,
      "outputs": [
        {
          "output_type": "execute_result",
          "data": {
            "text/plain": [
              "25000"
            ]
          },
          "metadata": {},
          "execution_count": 6
        }
      ]
    },
    {
      "cell_type": "code",
      "source": [
        "X[0]"
      ],
      "metadata": {
        "colab": {
          "base_uri": "https://localhost:8080/",
          "height": 174
        },
        "id": "ZGpI0-WNR-yb",
        "outputId": "b8e182a2-32ef-4f69-de4f-3e2a65b970a5"
      },
      "execution_count": null,
      "outputs": [
        {
          "output_type": "execute_result",
          "data": {
            "text/plain": [
              "\"SPOILERS!!!!!!!!!!!!!!!!!!!!!!!!!!!!!!!!<br /><br />I watched half of this movie and I didn't like it. <br /><br />First reason: Boring. Barely anything happens, the women sit around and discuss how terrible their lives are and how they have no hope, they smoke weed, read magazines, care for their sick friend, and cut up the occasional dead body. BORING!!!!<br /><br />Second reason: There are too many things left unexplained. Many scenes are dedicated to a zombie hunter who kidnaps random men, restrains them in a chair and interrogates them. Who are these men? How do they know anything about illegal activity concerning the diseased flesh eaters? Why does he kill one and let another one go?<br /><br />Also there is this dude who at first I thought also had the flesh eating disease but he puts his fist through a wall with superhuman strength suggesting he's not quite what we originally thought-never explained! How frustrating is that? <br /><br />Conclusion: I found the women annoying, the story uninteresting, the duologue tedious, and the action non-existent. Also the cover art is misleading since it makes you believe this movie is going to be cool when it clearly isn't. I rented this movie based on some of the reviews made by other people on this website, and although I respect the fact that some people might have enjoyed this flick, I will from now on make sure I read more than two reviews deep into a movie so as to avoid renting another movie I regret seeing.\""
            ],
            "application/vnd.google.colaboratory.intrinsic+json": {
              "type": "string"
            }
          },
          "metadata": {},
          "execution_count": 7
        }
      ]
    },
    {
      "cell_type": "markdown",
      "source": [],
      "metadata": {
        "id": "9huHL8uaQOGh"
      }
    },
    {
      "cell_type": "code",
      "source": [
        "Xtest=[]\n",
        "ytest=[]"
      ],
      "metadata": {
        "id": "YKjcJFwNO8ed"
      },
      "execution_count": null,
      "outputs": []
    },
    {
      "cell_type": "code",
      "source": [
        "# reading test data\n",
        "for category in ('neg','pos'):\n",
        "  testpath=os.path.join('/content/aclImdb','test',category)\n",
        "  for filename in os.listdir(testpath):\n",
        "    if filename.endswith(\".txt\"):\n",
        "      with open(os.path.join(testpath,filename)) as f:\n",
        "        Xtest.append(f.read())\n",
        "        ytest.append(1 if category==\"pos\" else 0)"
      ],
      "metadata": {
        "id": "ZZ7g1wJNSa8m"
      },
      "execution_count": null,
      "outputs": []
    },
    {
      "cell_type": "code",
      "source": [
        "Xtest[0]"
      ],
      "metadata": {
        "colab": {
          "base_uri": "https://localhost:8080/",
          "height": 157
        },
        "id": "CIfsFYqQSpR_",
        "outputId": "2daf330d-6cc2-4bc9-93c7-a485c44cccaa"
      },
      "execution_count": null,
      "outputs": [
        {
          "output_type": "execute_result",
          "data": {
            "text/plain": [
              "\"There were so many things wrong with this movie i have trouble keeping them all straight. But one thing that really bothers me is that if Jigsaw was the one laying on the ground in the bathroom, what happens if Zep never shows up? What if Zep was killed by Danny Gloover before he made it to the bathroom? Does Jigsaw simply just get up and walk out? Could the guy in the middle of the bathroom not be jigsaw, but another part of Jigsaw's game? What if Zep killed the wife and kid, how does Jigsaw get him the antidote for the poison if he's lying in the middle of the bathroom? Why does the doctor wait till the last minute to finally cut off his foot? It was too late, it was after six and as far as he knew his wife and child were already shot dead, it wasn't the best time for heroics. These are just a few questions i had about the film, but i may be missing something or everything as i have only seen the movie once. Please Help!\""
            ],
            "application/vnd.google.colaboratory.intrinsic+json": {
              "type": "string"
            }
          },
          "metadata": {},
          "execution_count": 10
        }
      ]
    },
    {
      "cell_type": "code",
      "source": [
        "len(Xtest)"
      ],
      "metadata": {
        "colab": {
          "base_uri": "https://localhost:8080/"
        },
        "id": "QlzrbI29Ss6H",
        "outputId": "b9bca37a-f349-4e97-c2f9-7cdb23459008"
      },
      "execution_count": null,
      "outputs": [
        {
          "output_type": "execute_result",
          "data": {
            "text/plain": [
              "25000"
            ]
          },
          "metadata": {},
          "execution_count": 11
        }
      ]
    },
    {
      "cell_type": "markdown",
      "source": [
        "# Tokenization and vectorization"
      ],
      "metadata": {
        "id": "sK_c-y6HTN61"
      }
    },
    {
      "cell_type": "code",
      "source": [
        "from sklearn.feature_extraction.text import TfidfVectorizer\n",
        "from sklearn.feature_selection import SelectKBest, f_classif"
      ],
      "metadata": {
        "id": "V8tB5CI5TL0A"
      },
      "execution_count": null,
      "outputs": []
    },
    {
      "cell_type": "code",
      "source": [
        "vect = TfidfVectorizer(\n",
        "    strip_accents='unicode',\n",
        "    decode_error='replace',\n",
        "    dtype='int32',\n",
        "    analyzer='word',\n",
        "    ngram_range=(1,2),\n",
        "    min_df=2\n",
        ")"
      ],
      "metadata": {
        "id": "voqEXQj2SvXl"
      },
      "execution_count": null,
      "outputs": []
    },
    {
      "cell_type": "code",
      "source": [
        "Xtrain=vect.fit_transform(X)"
      ],
      "metadata": {
        "colab": {
          "base_uri": "https://localhost:8080/"
        },
        "id": "_NDIf3HKWXOM",
        "outputId": "f75f1eae-252b-4485-9914-cf9f76f94102"
      },
      "execution_count": null,
      "outputs": [
        {
          "output_type": "stream",
          "name": "stderr",
          "text": [
            "/usr/local/lib/python3.8/dist-packages/sklearn/feature_extraction/text.py:2029: UserWarning: Only (<class 'numpy.float64'>, <class 'numpy.float32'>, <class 'numpy.float16'>) 'dtype' should be used. int32 'dtype' will be converted to np.float64.\n",
            "  warnings.warn(\n"
          ]
        }
      ]
    },
    {
      "cell_type": "code",
      "source": [
        "Xtest=vect.transform(Xtest)"
      ],
      "metadata": {
        "id": "In7EbP8VWkD0"
      },
      "execution_count": null,
      "outputs": []
    },
    {
      "cell_type": "code",
      "source": [
        "Xtrain.shape"
      ],
      "metadata": {
        "colab": {
          "base_uri": "https://localhost:8080/"
        },
        "id": "04fWygMyXdOJ",
        "outputId": "f6ddfa1f-d5e7-4af5-aeed-6a0f1e895825"
      },
      "execution_count": null,
      "outputs": [
        {
          "output_type": "execute_result",
          "data": {
            "text/plain": [
              "(25000, 438613)"
            ]
          },
          "metadata": {},
          "execution_count": 16
        }
      ]
    },
    {
      "cell_type": "code",
      "source": [
        "Xtest.shape"
      ],
      "metadata": {
        "colab": {
          "base_uri": "https://localhost:8080/"
        },
        "id": "ZQ0bz1F9XdRN",
        "outputId": "c0f7d48d-3721-4b4f-c3b6-05356ae3419a"
      },
      "execution_count": null,
      "outputs": [
        {
          "output_type": "execute_result",
          "data": {
            "text/plain": [
              "(25000, 438613)"
            ]
          },
          "metadata": {},
          "execution_count": 17
        }
      ]
    },
    {
      "cell_type": "code",
      "source": [
        "#best 20000 features on basis on anova test\n",
        "selector = SelectKBest(f_classif, k=min(5000, Xtrain.shape[1]))\n",
        "selector.fit(Xtrain, y)"
      ],
      "metadata": {
        "colab": {
          "base_uri": "https://localhost:8080/"
        },
        "id": "vCLUuTkLYn_n",
        "outputId": "5180c97c-3712-4b5a-ddc3-229b935dc2ef"
      },
      "execution_count": null,
      "outputs": [
        {
          "output_type": "execute_result",
          "data": {
            "text/plain": [
              "SelectKBest(k=5000)"
            ]
          },
          "metadata": {},
          "execution_count": 18
        }
      ]
    },
    {
      "cell_type": "code",
      "source": [
        "Xtrain = selector.transform(Xtrain).astype('float64')\n",
        "\n"
      ],
      "metadata": {
        "id": "1qL-_kzOYoPx"
      },
      "execution_count": null,
      "outputs": []
    },
    {
      "cell_type": "code",
      "source": [
        "Xtest = selector.transform(Xtest).astype('float64')\n"
      ],
      "metadata": {
        "id": "R4LmwS0kaAxh"
      },
      "execution_count": null,
      "outputs": []
    },
    {
      "cell_type": "code",
      "source": [
        "Xtrain.shape"
      ],
      "metadata": {
        "colab": {
          "base_uri": "https://localhost:8080/"
        },
        "id": "7tAKGjAVbzbh",
        "outputId": "06618a69-4c68-48b1-c77c-c05ee585fd9a"
      },
      "execution_count": null,
      "outputs": [
        {
          "output_type": "execute_result",
          "data": {
            "text/plain": [
              "(25000, 5000)"
            ]
          },
          "metadata": {},
          "execution_count": 21
        }
      ]
    },
    {
      "cell_type": "code",
      "source": [
        "from sklearn.model_selection import train_test_split\n",
        "\n",
        "Xtrain,Xval,ytrain,yval=train_test_split(Xtrain,y,test_size=0.2,stratify=y,random_state=42)"
      ],
      "metadata": {
        "id": "wxuDJ-L4aA-d"
      },
      "execution_count": null,
      "outputs": []
    },
    {
      "cell_type": "code",
      "source": [
        "type(Xtrain)"
      ],
      "metadata": {
        "colab": {
          "base_uri": "https://localhost:8080/"
        },
        "id": "CnDmVk3ObHoi",
        "outputId": "35186e74-22ce-4360-fc8a-a793e223a8e6"
      },
      "execution_count": null,
      "outputs": [
        {
          "output_type": "execute_result",
          "data": {
            "text/plain": [
              "scipy.sparse.csr.csr_matrix"
            ]
          },
          "metadata": {},
          "execution_count": 23
        }
      ]
    },
    {
      "cell_type": "code",
      "source": [],
      "metadata": {
        "colab": {
          "base_uri": "https://localhost:8080/",
          "height": 53
        },
        "id": "ex7T4KaebOTw",
        "outputId": "521db434-9ad0-4503-d0bb-a8fe525e2155"
      },
      "execution_count": null,
      "outputs": [
        {
          "output_type": "execute_result",
          "data": {
            "text/plain": [
              "'\\ndoesnt work \\n\\nXtrain = np.array(Xtrain)\\nXval = np.array(Xval)\\nXtest = np.array(Xtest)\\nytrain = np.array(ytrain)\\nyval = np.array(yval)\\nytest = np.array(ytest)\\n'"
            ],
            "application/vnd.google.colaboratory.intrinsic+json": {
              "type": "string"
            }
          },
          "metadata": {},
          "execution_count": 24
        }
      ]
    },
    {
      "cell_type": "code",
      "source": [
        "X_train = Xtrain.toarray()\n",
        "X_val = Xval.toarray()\n",
        "X_test = Xtest.toarray()\n",
        "ytrain = np.array(ytrain)\n",
        "yval = np.array(yval)\n",
        "ytest = np.array(ytest)"
      ],
      "metadata": {
        "id": "6QbgcjSEdWfJ"
      },
      "execution_count": null,
      "outputs": []
    },
    {
      "cell_type": "code",
      "source": [
        "Xtrain.shape"
      ],
      "metadata": {
        "colab": {
          "base_uri": "https://localhost:8080/"
        },
        "id": "pDO3GkIzbX95",
        "outputId": "0b28d40d-e9ab-4df5-9429-c32f05dcfad7"
      },
      "execution_count": null,
      "outputs": [
        {
          "output_type": "execute_result",
          "data": {
            "text/plain": [
              "(20000, 5000)"
            ]
          },
          "metadata": {},
          "execution_count": 26
        }
      ]
    },
    {
      "cell_type": "code",
      "source": [
        "Xtest.shape"
      ],
      "metadata": {
        "colab": {
          "base_uri": "https://localhost:8080/"
        },
        "id": "46iaqBdwblwx",
        "outputId": "0e2e28b1-c259-4b3a-c18e-b1e50dd5d81e"
      },
      "execution_count": null,
      "outputs": [
        {
          "output_type": "execute_result",
          "data": {
            "text/plain": [
              "(25000, 5000)"
            ]
          },
          "metadata": {},
          "execution_count": 27
        }
      ]
    },
    {
      "cell_type": "code",
      "source": [
        "Xval.shape"
      ],
      "metadata": {
        "colab": {
          "base_uri": "https://localhost:8080/"
        },
        "id": "SWmIo-fybpVR",
        "outputId": "0ed87396-afdb-4c41-cbea-00de0d4d8ca5"
      },
      "execution_count": null,
      "outputs": [
        {
          "output_type": "execute_result",
          "data": {
            "text/plain": [
              "(5000, 5000)"
            ]
          },
          "metadata": {},
          "execution_count": 28
        }
      ]
    },
    {
      "cell_type": "markdown",
      "source": [
        "# ANN Model"
      ],
      "metadata": {
        "id": "fL9odcH8eJSn"
      }
    },
    {
      "cell_type": "code",
      "source": [
        "from keras.models import Sequential\n",
        "from keras.layers import Dense,Flatten,Dropout"
      ],
      "metadata": {
        "id": "BAeXlvE-broS"
      },
      "execution_count": null,
      "outputs": []
    },
    {
      "cell_type": "code",
      "source": [
        "# ANN Building\n",
        "commentsANN=Sequential()"
      ],
      "metadata": {
        "id": "lvfcztr-ihbO"
      },
      "execution_count": null,
      "outputs": []
    },
    {
      "cell_type": "code",
      "source": [
        "commentsANN.add(Flatten())"
      ],
      "metadata": {
        "id": "qpK36HhujHYp"
      },
      "execution_count": null,
      "outputs": []
    },
    {
      "cell_type": "code",
      "source": [
        "# addition of layers and units \n",
        "\n",
        "commentsANN.add(Dense(units=128,activation='relu'))\n",
        "commentsANN.add(Dropout(rate=0.1))"
      ],
      "metadata": {
        "id": "N8KGGy5iivnO"
      },
      "execution_count": null,
      "outputs": []
    },
    {
      "cell_type": "code",
      "source": [
        "# output layer\n",
        "\n",
        "commentsANN.add(Dense(units=1,activation='sigmoid'))     # binary classification -- sigmoid activation"
      ],
      "metadata": {
        "id": "3zCwJp_xjM0N"
      },
      "execution_count": null,
      "outputs": []
    },
    {
      "cell_type": "code",
      "source": [
        "# exponential Decay rate and compilation\n",
        "\n",
        "from tensorflow.keras.optimizers.schedules import ExponentialDecay\n",
        "from keras.optimizers import Adam\n",
        "'''\n",
        "ExponentialDecay - with iterations reduce the learning rate\n",
        "'''\n",
        "initial_learning_rate = 0.001\n",
        "lr=ExponentialDecay(initial_learning_rate,\n",
        "    decay_steps=100000,\n",
        "    decay_rate=0.96,\n",
        "    staircase=True)\n",
        "\n",
        "commentsANN.compile(loss='binary_crossentropy',metrics=['accuracy'],optimizer=Adam(learning_rate=lr))\n",
        "                  "
      ],
      "metadata": {
        "id": "ldBUBfAXjmwk"
      },
      "execution_count": null,
      "outputs": []
    },
    {
      "cell_type": "code",
      "source": [
        "from keras.callbacks import ModelCheckpoint, EarlyStopping, ReduceLROnPlateau\n",
        "\n",
        "\n",
        "'''\n",
        "EarlyStopping( - when metric doesnt improve for certain epochs we stop training\n",
        "  monitor=\"val_accuracy\", - metric to monitor\n",
        "  patience=10, - number of epochs we monitor metric\n",
        "  verbose=1, - message will be printed\n",
        "  )\n",
        "'''\n",
        "'''\n",
        "ReduceLROnPlateau( - reduce learning rate if no improvement in metric\n",
        "  monitor=\"val_accuracy\", - metric to monitor\n",
        "  factor=0.1, - old learning * factor = new learning rate\n",
        "  patience=5, - number of epochs we monitor metric\n",
        "  verbose=1, - message will be printed\n",
        "  )\n",
        "'''\n",
        "es = EarlyStopping(monitor=\"val_accuracy\", patience=10, verbose=1)\n",
        "#rd = ReduceLROnPlateau(monitor=\"val_accuracy\",factor=0.1,patience=5,verbose=1)\n",
        "\n",
        "mc = ModelCheckpoint(filepath='bestmodel.h5', monitor='val_accuracy', mode='max', verbose=1, save_best_only=True)"
      ],
      "metadata": {
        "id": "90ROMU0AkLEh"
      },
      "execution_count": null,
      "outputs": []
    },
    {
      "cell_type": "code",
      "source": [
        "history = commentsANN.fit(X_train, ytrain, epochs=5, validation_data=(X_val, yval), callbacks=[mc,es])"
      ],
      "metadata": {
        "colab": {
          "base_uri": "https://localhost:8080/"
        },
        "id": "nsoRfywYkl5t",
        "outputId": "a10e48ef-c5e8-4b20-a6cd-760878af56de"
      },
      "execution_count": null,
      "outputs": [
        {
          "output_type": "stream",
          "name": "stdout",
          "text": [
            "Epoch 1/5\n",
            "612/625 [============================>.] - ETA: 0s - loss: 0.3385 - accuracy: 0.8786\n",
            "Epoch 1: val_accuracy improved from -inf to 0.90380, saving model to bestmodel.h5\n",
            "625/625 [==============================] - 6s 4ms/step - loss: 0.3359 - accuracy: 0.8794 - val_loss: 0.2326 - val_accuracy: 0.9038\n",
            "Epoch 2/5\n",
            "616/625 [============================>.] - ETA: 0s - loss: 0.1887 - accuracy: 0.9259\n",
            "Epoch 2: val_accuracy improved from 0.90380 to 0.90900, saving model to bestmodel.h5\n",
            "625/625 [==============================] - 2s 3ms/step - loss: 0.1884 - accuracy: 0.9261 - val_loss: 0.2194 - val_accuracy: 0.9090\n",
            "Epoch 3/5\n",
            "625/625 [==============================] - ETA: 0s - loss: 0.1561 - accuracy: 0.9387\n",
            "Epoch 3: val_accuracy improved from 0.90900 to 0.90940, saving model to bestmodel.h5\n",
            "625/625 [==============================] - 2s 4ms/step - loss: 0.1561 - accuracy: 0.9387 - val_loss: 0.2218 - val_accuracy: 0.9094\n",
            "Epoch 4/5\n",
            "614/625 [============================>.] - ETA: 0s - loss: 0.1344 - accuracy: 0.9497\n",
            "Epoch 4: val_accuracy did not improve from 0.90940\n",
            "625/625 [==============================] - 2s 3ms/step - loss: 0.1351 - accuracy: 0.9495 - val_loss: 0.2308 - val_accuracy: 0.9064\n",
            "Epoch 5/5\n",
            "617/625 [============================>.] - ETA: 0s - loss: 0.1195 - accuracy: 0.9543\n",
            "Epoch 5: val_accuracy did not improve from 0.90940\n",
            "625/625 [==============================] - 3s 4ms/step - loss: 0.1190 - accuracy: 0.9546 - val_loss: 0.2459 - val_accuracy: 0.9038\n"
          ]
        }
      ]
    },
    {
      "cell_type": "code",
      "source": [
        "#ANN architecture\n",
        "\n",
        "commentsANN.summary()"
      ],
      "metadata": {
        "colab": {
          "base_uri": "https://localhost:8080/"
        },
        "id": "ns9MVdm8lPQT",
        "outputId": "1c90465b-c59b-47bb-e54d-43056589c251"
      },
      "execution_count": null,
      "outputs": [
        {
          "output_type": "stream",
          "name": "stdout",
          "text": [
            "Model: \"sequential\"\n",
            "_________________________________________________________________\n",
            " Layer (type)                Output Shape              Param #   \n",
            "=================================================================\n",
            " flatten (Flatten)           (None, 5000)              0         \n",
            "                                                                 \n",
            " dense (Dense)               (None, 128)               640128    \n",
            "                                                                 \n",
            " dropout (Dropout)           (None, 128)               0         \n",
            "                                                                 \n",
            " dense_1 (Dense)             (None, 1)                 129       \n",
            "                                                                 \n",
            "=================================================================\n",
            "Total params: 640,257\n",
            "Trainable params: 640,257\n",
            "Non-trainable params: 0\n",
            "_________________________________________________________________\n"
          ]
        }
      ]
    },
    {
      "cell_type": "code",
      "source": [
        "import matplotlib.pyplot as plt"
      ],
      "metadata": {
        "id": "I67q9xcslPrj"
      },
      "execution_count": null,
      "outputs": []
    },
    {
      "cell_type": "code",
      "source": [
        "plt.plot(history.history['loss'])\n",
        "plt.plot(history.history['val_loss'])\n",
        "plt.xlabel('Epochs')\n",
        "plt.ylabel('Loss')\n",
        "plt.legend(['Train', 'Validation'])\n",
        "plt.title('Loss and Validation loss every epoch')\n",
        "plt.show()"
      ],
      "metadata": {
        "colab": {
          "base_uri": "https://localhost:8080/",
          "height": 295
        },
        "id": "YvXn2ZAclPyt",
        "outputId": "abf2da86-4d38-4869-f3b2-a8063c3b379e"
      },
      "execution_count": null,
      "outputs": [
        {
          "output_type": "display_data",
          "data": {
            "text/plain": [
              "<Figure size 432x288 with 1 Axes>"
            ],
            "image/png": "[encoded data removed]"
          },
          "metadata": {
            "needs_background": "light"
          }
        }
      ]
    },
    {
      "cell_type": "code",
      "source": [
        "plt.plot(history.history['accuracy'])\n",
        "plt.plot(history.history['val_accuracy'])\n",
        "plt.xlabel('Epochs')\n",
        "plt.ylabel('accuracy')\n",
        "plt.legend(['Train', 'Validation'])\n",
        "plt.title('accuracy and Validation accuracy every epoch')\n",
        "plt.show()"
      ],
      "metadata": {
        "colab": {
          "base_uri": "https://localhost:8080/",
          "height": 295
        },
        "id": "HwcrPsSllP6D",
        "outputId": "207fb5dd-994d-4f81-84af-9e5a2440b619"
      },
      "execution_count": null,
      "outputs": [
        {
          "output_type": "display_data",
          "data": {
            "text/plain": [
              "<Figure size 432x288 with 1 Axes>"
            ],
            "image/png": "[encoded data removed]"
          },
          "metadata": {
            "needs_background": "light"
          }
        }
      ]
    },
    {
      "cell_type": "code",
      "source": [
        "from tensorflow.keras.utils import plot_model\n",
        "plot_model(commentsANN, show_shapes=True, show_dtype=True, show_layer_activations=True, show_layer_names=True)"
      ],
      "metadata": {
        "colab": {
          "base_uri": "https://localhost:8080/",
          "height": 686
        },
        "id": "koKsZEsMltWq",
        "outputId": "e94a7172-5659-45fa-da49-525be84de3df"
      },
      "execution_count": null,
      "outputs": [
        {
          "output_type": "execute_result",
          "data": {
            "image/png": "[encoded data removed]",
            "text/plain": [
              "<IPython.core.display.Image object>"
            ]
          },
          "metadata": {},
          "execution_count": 41
        }
      ]
    },
    {
      "cell_type": "markdown",
      "source": [
        "# Prediction"
      ],
      "metadata": {
        "id": "5nsB-b82s5_p"
      }
    },
    {
      "cell_type": "code",
      "source": [],
      "metadata": {
        "id": "aBoJW_17s2AP"
      },
      "execution_count": null,
      "outputs": []
    },
    {
      "cell_type": "code",
      "source": [
        "ypred = commentsANN.predict(X_test)"
      ],
      "metadata": {
        "colab": {
          "base_uri": "https://localhost:8080/"
        },
        "id": "5-YiRlialtYY",
        "outputId": "25789f0c-6c99-4a8a-cc8c-b529c52b5566"
      },
      "execution_count": null,
      "outputs": [
        {
          "output_type": "stream",
          "name": "stdout",
          "text": [
            "782/782 [==============================] - 1s 2ms/step\n"
          ]
        }
      ]
    },
    {
      "cell_type": "code",
      "source": [
        "ypred"
      ],
      "metadata": {
        "colab": {
          "base_uri": "https://localhost:8080/"
        },
        "id": "Sqz9P9wwm8Fq",
        "outputId": "7292c772-ec39-44d5-d3d4-e6941362dcbf"
      },
      "execution_count": null,
      "outputs": [
        {
          "output_type": "execute_result",
          "data": {
            "text/plain": [
              "array([[0.848631  ],\n",
              "       [0.00406403],\n",
              "       [0.28653598],\n",
              "       ...,\n",
              "       [0.7583659 ],\n",
              "       [0.3895721 ],\n",
              "       [0.9998877 ]], dtype=float32)"
            ]
          },
          "metadata": {},
          "execution_count": 43
        }
      ]
    },
    {
      "cell_type": "code",
      "source": [
        "ypred_classes=np.argmax(ypred,axis=-1)"
      ],
      "metadata": {
        "id": "3Zcg7qg7sl2F"
      },
      "execution_count": null,
      "outputs": []
    },
    {
      "cell_type": "code",
      "source": [
        "ypred_classes"
      ],
      "metadata": {
        "colab": {
          "base_uri": "https://localhost:8080/"
        },
        "id": "wkzbdshRstNk",
        "outputId": "9e717166-d1f0-4e28-fbf7-2c8a65b532bb"
      },
      "execution_count": null,
      "outputs": [
        {
          "output_type": "execute_result",
          "data": {
            "text/plain": [
              "array([0, 0, 0, ..., 0, 0, 0])"
            ]
          },
          "metadata": {},
          "execution_count": 45
        }
      ]
    },
    {
      "cell_type": "code",
      "source": [
        "from keras.models import load_model\n",
        "bestmodel = load_model('/content/bestmodel.h5')"
      ],
      "metadata": {
        "id": "XKOjUH_hltbq"
      },
      "execution_count": null,
      "outputs": []
    },
    {
      "cell_type": "markdown",
      "source": [
        "# evaluate on commentsANN"
      ],
      "metadata": {
        "id": "cf9V6VAJtAs1"
      }
    },
    {
      "cell_type": "code",
      "source": [
        "commentsANN.evaluate(X_test, ytest)"
      ],
      "metadata": {
        "colab": {
          "base_uri": "https://localhost:8080/"
        },
        "id": "CGEp50celtei",
        "outputId": "10ad9c2f-f81c-4bac-b767-5fd693969901"
      },
      "execution_count": null,
      "outputs": [
        {
          "output_type": "stream",
          "name": "stdout",
          "text": [
            "782/782 [==============================] - 2s 3ms/step - loss: 0.2970 - accuracy: 0.8891\n"
          ]
        },
        {
          "output_type": "execute_result",
          "data": {
            "text/plain": [
              "[0.29695066809654236, 0.8890799880027771]"
            ]
          },
          "metadata": {},
          "execution_count": 47
        }
      ]
    },
    {
      "cell_type": "markdown",
      "source": [
        "# evaluate bestmodel"
      ],
      "metadata": {
        "id": "GgjPoeDytKJL"
      }
    },
    {
      "cell_type": "code",
      "source": [
        "bestmodel.evaluate(X_test, ytest)"
      ],
      "metadata": {
        "colab": {
          "base_uri": "https://localhost:8080/"
        },
        "id": "reEfH6_2ltgx",
        "outputId": "3b7807e8-4ecf-4bb0-ae11-25bb34f83800"
      },
      "execution_count": null,
      "outputs": [
        {
          "output_type": "stream",
          "name": "stdout",
          "text": [
            "782/782 [==============================] - 3s 3ms/step - loss: 0.2584 - accuracy: 0.8970\n"
          ]
        },
        {
          "output_type": "execute_result",
          "data": {
            "text/plain": [
              "[0.2583540678024292, 0.8969600200653076]"
            ]
          },
          "metadata": {},
          "execution_count": 48
        }
      ]
    },
    {
      "cell_type": "markdown",
      "source": [
        "# Deployment"
      ],
      "metadata": {
        "id": "KNM5Gw3stJAJ"
      }
    },
    {
      "cell_type": "code",
      "source": [
        "comment = ['the film made me feel young again']\n",
        "\n"
      ],
      "metadata": {
        "id": "A2sCLwwwltj0"
      },
      "execution_count": null,
      "outputs": []
    },
    {
      "cell_type": "code",
      "source": [
        "X_deployment = vect.transform(comment)\n",
        "\n",
        "X_deployment_best = selector.transform(X_deployment)\n",
        "\n"
      ],
      "metadata": {
        "id": "WIhpJaFiltnk"
      },
      "execution_count": null,
      "outputs": []
    },
    {
      "cell_type": "code",
      "source": [
        "X_deployment_best_array = X_deployment_best.toarray()\n",
        "\n"
      ],
      "metadata": {
        "id": "qm67fXp5H6v9"
      },
      "execution_count": null,
      "outputs": []
    },
    {
      "cell_type": "code",
      "source": [
        "predict_comment=bestmodel.predict(X_deployment_best_array)"
      ],
      "metadata": {
        "colab": {
          "base_uri": "https://localhost:8080/"
        },
        "id": "_t8gQNdrH63f",
        "outputId": "ca3e829b-f2a0-4af2-d2c4-fbcba65c9a27"
      },
      "execution_count": null,
      "outputs": [
        {
          "output_type": "stream",
          "name": "stdout",
          "text": [
            "1/1 [==============================] - 0s 30ms/step\n"
          ]
        }
      ]
    },
    {
      "cell_type": "code",
      "source": [
        "predict_comment"
      ],
      "metadata": {
        "colab": {
          "base_uri": "https://localhost:8080/"
        },
        "id": "nepyyqGhIKBq",
        "outputId": "b5e56528-4c11-4ac1-8023-e96b442fc203"
      },
      "execution_count": null,
      "outputs": [
        {
          "output_type": "execute_result",
          "data": {
            "text/plain": [
              "array([[0.3805651]], dtype=float32)"
            ]
          },
          "metadata": {},
          "execution_count": 55
        }
      ]
    },
    {
      "cell_type": "code",
      "source": [
        "comment_pred=np.argmax(predict_comment)"
      ],
      "metadata": {
        "id": "GAuIgGs5IUMQ"
      },
      "execution_count": null,
      "outputs": []
    },
    {
      "cell_type": "code",
      "source": [
        "comment_pred"
      ],
      "metadata": {
        "colab": {
          "base_uri": "https://localhost:8080/"
        },
        "id": "HYH8HNugIh3e",
        "outputId": "6e61c955-617e-4d4d-9a93-3f77d89af871"
      },
      "execution_count": null,
      "outputs": [
        {
          "output_type": "execute_result",
          "data": {
            "text/plain": [
              "0"
            ]
          },
          "metadata": {},
          "execution_count": 57
        }
      ]
    }
  ]
}